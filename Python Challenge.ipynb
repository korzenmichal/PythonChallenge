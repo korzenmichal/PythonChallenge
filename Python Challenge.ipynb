{
 "cells": [
  {
   "cell_type": "markdown",
   "metadata": {},
   "source": [
    "# My solution to Python Challenge:\n",
    "\n",
    "http://www.pythonchallenge.com/"
   ]
  },
  {
   "cell_type": "code",
   "execution_count": 104,
   "metadata": {
    "collapsed": false
   },
   "outputs": [
    {
     "name": "stdout",
     "output_type": "stream",
     "text": [
      "http://www.pythonchallenge.com/pc/def/268435456.html\n"
     ]
    }
   ],
   "source": [
    "## Task 0. exponent\n",
    "#http://www.pythonchallenge.com/pc/def/0.html\n",
    "\n",
    "link='http://www.pythonchallenge.com/pc/def/0.html'\n",
    "num= 2**28\n",
    "link=link.replace('0',str(num))\n",
    "print link"
   ]
  },
  {
   "cell_type": "code",
   "execution_count": 115,
   "metadata": {
    "collapsed": false
   },
   "outputs": [
    {
     "name": "stdout",
     "output_type": "stream",
     "text": [
      "i hope you didnt translate it by hand. thats what computers are for. doing it in by hand is inefficient and that\"s why this text is so long. using string.maketrans() is recommended. now apply on the url.\n",
      "http://www.pythonchallenge.com/pc/def/ocr.html\n"
     ]
    }
   ],
   "source": [
    "## Task 1. Solution1\n",
    "#http://www.pythonchallenge.com/pc/def/268435456.html\n",
    "\n",
    "import re #regex\n",
    "\n",
    "s='g fmnc wms bgblr rpylqjyrc gr zw fylb. rfyrq ufyr amknsrcpq ypc dmp. bmgle gr gl zw fylb gq glcddgagclr ylb rfyr\"q ufw rfgq rcvr gq qm jmle. sqgle qrpgle.kyicrpylq() gq pcamkkclbcb. lmu ynnjw ml rfc spj.'\n",
    "\n",
    "#function\n",
    "def translate(s):\n",
    "    s2=''\n",
    "    for k in s:\n",
    "        #when not letters keep character\n",
    "        if ord(k) < 97 or ord(k) > 122 :\n",
    "            s2=s2+k\n",
    "        else:\n",
    "            #when alphabet characters\n",
    "            num=ord(k)+2\n",
    "            if num >122: #when z->b,y->a \n",
    "                num=num-123+ord('a')\n",
    "            s2=s2 +chr(num)    \n",
    "    return s2\n",
    "\n",
    "#print result\n",
    "print translate(s)\n",
    "\n",
    "link='http://www.pythonchallenge.com/pc/def/map.html'\n",
    "\n",
    "#split link and replace only html file name\n",
    "begining=re.search('(.*[^/]/)[^/]' , link).group(1)\n",
    "mid= re.search('.*[^/]/([^/].*)(?:\\.)',link).group(1)\n",
    "mid=translate(mid)\n",
    "end=re.search('.*(\\..*)',link).group(1)\n",
    "\n",
    "# print result\n",
    "print begining + mid + end"
   ]
  },
  {
   "cell_type": "code",
   "execution_count": 116,
   "metadata": {
    "collapsed": false
   },
   "outputs": [
    {
     "name": "stdout",
     "output_type": "stream",
     "text": [
      "i hope you didnt translate it by hand. thats what computers are for. doing it in by hand is inefficient and that\"s why this text is so long. using string.maketrans() is recommended. now apply on the url.\n",
      "http://www.pythonchallenge.com/pc/def/ocr.html\n"
     ]
    }
   ],
   "source": [
    "## Task 1. Solution2\n",
    "#http://www.pythonchallenge.com/pc/def/268435456.html\n",
    "\n",
    "import string\n",
    "\n",
    "s='g fmnc wms bgblr rpylqjyrc gr zw fylb. rfyrq ufyr amknsrcpq ypc dmp. bmgle gr gl zw fylb gq glcddgagclr ylb rfyr\"q ufw rfgq rcvr gq qm jmle. sqgle qrpgle.kyicrpylq() gq pcamkkclbcb. lmu ynnjw ml rfc spj.'\n",
    "\n",
    "strin='abcdefghijklmnopqrstuvwxyz'\n",
    "strout='cdefghijklmnopqrstuvwxyzab'\n",
    "\n",
    "codebook=string.maketrans(strin, strout)\n",
    "\n",
    "print s.translate(codebook)\n",
    "\n",
    "link='http://www.pythonchallenge.com/pc/def/map.html'\n",
    "\n",
    "#split link and replace only html file name\n",
    "begining=re.search('(.*[^/]/)[^/]' , link).group(1)\n",
    "mid= re.search('.*[^/]/([^/].*)(?:\\.)',link).group(1)\n",
    "mid=translate(mid)\n",
    "end=re.search('.*(\\..*)',link).group(1)\n",
    "\n",
    "print begining + mid+ end"
   ]
  },
  {
   "cell_type": "code",
   "execution_count": 190,
   "metadata": {
    "collapsed": false,
    "scrolled": false
   },
   "outputs": [
    {
     "name": "stdout",
     "output_type": "stream",
     "text": [
      "Counter({')': 6186, '@': 6157, '(': 6154, ']': 6152, '#': 6115, '_': 6112, '[': 6108, '}': 6105, '%': 6104, '!': 6079, '+': 6066, '$': 6046, '{': 6046, '&': 6043, '*': 6034, '^': 6030, '\\n': 1221, 'a': 1, 'e': 1, 'i': 1, 'l': 1, 'q': 1, 'u': 1, 't': 1, 'y': 1})\n",
      "\n",
      ")@(]#_[}%!+${&*^\n",
      "aeilquty\n"
     ]
    }
   ],
   "source": [
    "##Task 2. OCR\n",
    "#http://www.pythonchallenge.com/pc/def/ocr.html\n",
    "\n",
    "import urllib2\n",
    "import re\n",
    "import collections\n",
    "\n",
    "#download data and select substrig\n",
    "link='http://www.pythonchallenge.com/pc/def/ocr.html'\n",
    "response = urllib2.urlopen(link)\n",
    "html = response.read()\n",
    "\n",
    "charactertable= re.search('.*<!--(.*)-->' , html, re.DOTALL).group(1)\n",
    "\n",
    "#Calculate frequency table\n",
    "FreqTable= collections.Counter(charactertable)\n",
    "print FreqTable\n",
    "print\n",
    "\n",
    "#choose only characters\n",
    "s=''\n",
    "for k in FreqTable.most_common():\n",
    "    s=s+ k[0]\n",
    "print s"
   ]
  },
  {
   "cell_type": "code",
   "execution_count": 218,
   "metadata": {
    "collapsed": false
   },
   "outputs": [
    {
     "name": "stdout",
     "output_type": "stream",
     "text": [
      "linkedlist\n"
     ]
    }
   ],
   "source": [
    "##Task 3. OCR. Solution1\n",
    "#http://www.pythonchallenge.com/pc/def/equality.html\n",
    "\n",
    "import urllib2\n",
    "import re\n",
    "\n",
    "#download data and select substrig\n",
    "link='http://www.pythonchallenge.com/pc/def/equality.html'\n",
    "response = urllib2.urlopen(link)\n",
    "html = response.read()\n",
    "\n",
    "#subset file\n",
    "characterTable= re.search('.*<!--(.*)-->' , html, re.DOTALL).group(1)\n",
    "#remove breaklines\n",
    "characterTable=characterTable.replace('\\n','')\n",
    "lenT=len(characterTable)-1\n",
    "\n",
    "#help function 1\n",
    "#check if lower letter\n",
    "def lcase(s):\n",
    "    if ord(s) >= 97 and ord(s) <= 122:\n",
    "        return True\n",
    "\n",
    "#help function 2\n",
    "#check if surronded by 3 capital letters on each side\n",
    "def surrounded(i):\n",
    "    #bfore and after squence small leter\n",
    "    if i-4>=0:\n",
    "        if not lcase(characterTable[i-4]):\n",
    "            return False\n",
    "    if i+4<=lenT:\n",
    "        if not lcase(characterTable[i+4]):\n",
    "            return False \n",
    "    #Only big letters\n",
    "    for k in (i-3, i-2, i-1, i+1, i+2, i+3):\n",
    "        if lcase(characterTable[k]):\n",
    "            # if at least one small letter - quit\n",
    "            return False\n",
    "        if k==i+3:\n",
    "            # if there were no small letter\n",
    "            return True\n",
    "\n",
    "#loop through string\n",
    "s=''\n",
    "n=[]\n",
    "for i in range(2, len(characterTable)-2):\n",
    "    #find characters with small letters\n",
    "    if lcase(characterTable[i]):\n",
    "        if surrounded(i):\n",
    "            s=s+characterTable[i]\n",
    "            \n",
    "print s"
   ]
  },
  {
   "cell_type": "code",
   "execution_count": 2,
   "metadata": {
    "collapsed": false
   },
   "outputs": [
    {
     "name": "stdout",
     "output_type": "stream",
     "text": [
      "linkedlist\n",
      "http://www.pythonchallenge.com/pc/def/linkedlist.html\n",
      "http://www.pythonchallenge.com/pc/def/\n"
     ]
    }
   ],
   "source": [
    "##Task 3. OCR. Solution2\n",
    "#http://www.pythonchallenge.com/pc/def/equality.html\n",
    "\n",
    "import urllib2\n",
    "import re\n",
    "\n",
    "#download data and select substrig\n",
    "link='http://www.pythonchallenge.com/pc/def/equality.html'\n",
    "response = urllib2.urlopen(link)\n",
    "html = response.read()\n",
    "\n",
    "#subset file\n",
    "characterTable= re.search('.*<!--(.*)-->' , html, re.DOTALL).group(1)\n",
    "#remove breaklines\n",
    "characterTable=characterTable.replace('\\n','')\n",
    "\n",
    "begining=re.search('(.*[^/]/)[^/]' , link).group(1)\n",
    "end=re.search('.*(\\..*)',link).group(1)\n",
    "mid= ''.join(re.findall('^|[^A-Z][A-Z]{3}([a-z])[A-Z]{3}[^A-Z]|$',characterTable))\n",
    "\n",
    "print mid\n",
    "\n",
    "print begining + mid+ end\n"
   ]
  },
  {
   "cell_type": "code",
   "execution_count": 4,
   "metadata": {
    "collapsed": false
   },
   "outputs": [
    {
     "name": "stdout",
     "output_type": "stream",
     "text": [
      "http://www.pythonchallenge.com/pc/def/peak.html\n"
     ]
    }
   ],
   "source": [
    "##Task 4. Chain\n",
    "link='http://www.pythonchallenge.com/pc/def/linkedlist.php'\n",
    "\n",
    "import urllib2\n",
    "import re\n",
    "\n",
    "link='http://www.pythonchallenge.com/pc/def/linkedlist.php'\n",
    "link2=link\n",
    "\n",
    "codeList=[]\n",
    "\n",
    "#initialize loop\n",
    "for i in range(1, 400):\n",
    "    #get reponse\n",
    "    response = urllib2.urlopen(link2)\n",
    "    html = response.read()\n",
    "    \n",
    "    if re.search('.*[^\\d](\\d+)' , html):\n",
    "        #if not end then get a new link\n",
    "        code=re.search('.*[^\\d](\\d+)' , html).group(1)    \n",
    "        codeList.append(code)\n",
    "        link2=link+'?nothing='+code\n",
    "        #print link2\n",
    "    else:\n",
    "        #if not loop then final page\n",
    "        break\n",
    "\n",
    "begining=re.search('(.*[^/]/)[^/]' , link).group(1)\n",
    "        \n",
    "print begining+html\n",
    "        "
   ]
  },
  {
   "cell_type": "code",
   "execution_count": 17,
   "metadata": {
    "collapsed": false
   },
   "outputs": [
    {
     "name": "stdout",
     "output_type": "stream",
     "text": [
      "                                                                                               \n",
      "              #####                                                                      ##### \n",
      "               ####                                                                       #### \n",
      "               ####                                                                       #### \n",
      "               ####                                                                       #### \n",
      "               ####                                                                       #### \n",
      "               ####                                                                       #### \n",
      "               ####                                                                       #### \n",
      "               ####                                                                       #### \n",
      "      ###      ####   ###         ###       #####   ###    #####   ###          ###       #### \n",
      "   ###   ##    #### #######     ##  ###      #### #######   #### #######     ###  ###     #### \n",
      "  ###     ###  #####    ####   ###   ####    #####    ####  #####    ####   ###     ###   #### \n",
      " ###           ####     ####   ###    ###    ####     ####  ####     ####  ###      ####  #### \n",
      " ###           ####     ####          ###    ####     ####  ####     ####  ###       ###  #### \n",
      "####           ####     ####     ##   ###    ####     ####  ####     #### ####       ###  #### \n",
      "####           ####     ####   ##########    ####     ####  ####     #### ##############  #### \n",
      "####           ####     ####  ###    ####    ####     ####  ####     #### ####            #### \n",
      "####           ####     #### ####     ###    ####     ####  ####     #### ####            #### \n",
      " ###           ####     #### ####     ###    ####     ####  ####     ####  ###            #### \n",
      "  ###      ##  ####     ####  ###    ####    ####     ####  ####     ####   ###      ##   #### \n",
      "   ###    ##   ####     ####   ###########   ####     ####  ####     ####    ###    ##    #### \n",
      "      ###     ######    #####    ##    #### ######    ###########    #####      ###      ######\n",
      "                                                                                               \n",
      "                                                                                               \n",
      "              #####                                                                      ##### \n",
      "               ####                                                                       #### \n",
      "               ####                                                                       #### \n",
      "               ####                                                                       #### \n",
      "               ####                                                                       #### \n",
      "               ####                                                                       #### \n",
      "               ####                                                                       #### \n",
      "               ####                                                                       #### \n",
      "      ###      ####   ###         ###       #####   ###    #####   ###          ###       #### \n",
      "   ###   ##    #### #######     ##  ###      #### #######   #### #######     ###  ###     #### \n",
      "  ###     ###  #####    ####   ###   ####    #####    ####  #####    ####   ###     ###   #### \n",
      " ###           ####     ####   ###    ###    ####     ####  ####     ####  ###      ####  #### \n",
      " ###           ####     ####          ###    ####     ####  ####     ####  ###       ###  #### \n",
      "####           ####     ####     ##   ###    ####     ####  ####     #### ####       ###  #### \n",
      "####           ####     ####   ##########    ####     ####  ####     #### ##############  #### \n",
      "####           ####     ####  ###    ####    ####     ####  ####     #### ####            #### \n",
      "####           ####     #### ####     ###    ####     ####  ####     #### ####            #### \n",
      " ###           ####     #### ####     ###    ####     ####  ####     ####  ###            #### \n",
      "  ###      ##  ####     ####  ###    ####    ####     ####  ####     ####   ###      ##   #### \n",
      "   ###    ##   ####     ####   ###########   ####     ####  ####     ####    ###    ##    #### \n",
      "      ###     ######    #####    ##    #### ######    ###########    #####      ###      ######\n",
      "                                                                                               \n"
     ]
    }
   ],
   "source": [
    "#Task 5. pronounce it \n",
    "#http://www.pythonchallenge.com/pc/def/peak.html\n",
    "\n",
    "import urllib2\n",
    "import pickle\n",
    "\n",
    "link='http://www.pythonchallenge.com/pc/def/banner.p'\n",
    "\n",
    "response = urllib2.urlopen(link)\n",
    "\n",
    "UnpicledList=pickle.load(response)\n",
    "\n",
    "#basic method\n",
    "for line in UnpicledList:\n",
    "    s=''\n",
    "    for el in line:\n",
    "        s=s+el[0]*el[1]\n",
    "    print s\n",
    "\n",
    "#more advance\n",
    "for line in UnpicledList:\n",
    "    print(''.join(character * el for character, el in line))\n",
    "\n"
   ]
  },
  {
   "cell_type": "code",
   "execution_count": 22,
   "metadata": {
    "collapsed": false,
    "scrolled": false
   },
   "outputs": [
    {
     "name": "stdout",
     "output_type": "stream",
     "text": [
      "46145.txt\n",
      "Collect the comments.\n",
      "***************************************************************\n",
      "****************************************************************\n",
      "**                                                            **\n",
      "**   OO    OO    XX      YYYY    GG    GG  EEEEEE NN      NN  **\n",
      "**   OO    OO  XXXXXX   YYYYYY   GG   GG   EEEEEE  NN    NN   **\n",
      "**   OO    OO XXX  XXX YYY   YY  GG GG     EE       NN  NN    **\n",
      "**   OOOOOOOO XX    XX YY        GGG       EEEEE     NNNN     **\n",
      "**   OOOOOOOO XX    XX YY        GGG       EEEEE      NN      **\n",
      "**   OO    OO XXX  XXX YYY   YY  GG GG     EE         NN      **\n",
      "**   OO    OO  XXXXXX   YYYYYY   GG   GG   EEEEEE     NN      **\n",
      "**   OO    OO    XX      YYYY    GG    GG  EEEEEE     NN      **\n",
      "**                                                            **\n",
      "****************************************************************\n",
      " **************************************************************\n",
      "\n"
     ]
    }
   ],
   "source": [
    "#Task 6. zip it \n",
    "#http://www.pythonchallenge.com/pc/def/channel.html\n",
    "\n",
    "link='http://www.pythonchallenge.com/pc/def/channel.html'\n",
    "\n",
    "import zipfile, re\n",
    "\n",
    "#definition of variables\n",
    "num= 90052\n",
    "sol=[]\n",
    "\n",
    "#unzip\n",
    "unzip= zipfile.ZipFile(\"channel.zip\")\n",
    "\n",
    "#first file\n",
    "message= unzip.read(str(num)+'.txt')\n",
    "\n",
    "while re.search('\\d+',message):\n",
    "    #read number\n",
    "    num= re.search('\\d+',message).group(0)\n",
    "    #open a file\n",
    "    message= unzip.read(str(num)+'.txt')\n",
    "    #save comment from a file\n",
    "    sol.append(unzip.getinfo(str(num)+'.txt').comment)\n",
    "\n",
    "#show number and message of the last message\n",
    "print num +'.txt\\n'+ message\n",
    "\n",
    "#show the result create from comments \n",
    "print  ''.join(sol)\n",
    "\n",
    "#result OXYGEN"
   ]
  },
  {
   "cell_type": "code",
   "execution_count": 73,
   "metadata": {
    "collapsed": false
   },
   "outputs": [
    {
     "name": "stdout",
     "output_type": "stream",
     "text": [
      "PNG (629, 95) RGBA\n",
      "smart guy, you made it. the next level is [105, 110, 116, 101, 103, 114, 105, 116, 121]njb\n",
      "Final messgae:integrity\n"
     ]
    }
   ],
   "source": [
    "#Task 7. Smart.\n",
    "#http://www.pythonchallenge.com/pc/def/oxygen.html\n",
    "\n",
    "from PIL import Image\n",
    "import requests\n",
    "import re\n",
    "\n",
    "link='http://www.pythonchallenge.com/pc/def/oxygen.png'\n",
    "name='oxygen.png'\n",
    "\n",
    "#download picture\n",
    "f=open(name, 'wb')\n",
    "f.write(requests.get(link).content)\n",
    "f.close()\n",
    "\n",
    "#process picture\n",
    "a=Image.open(name)\n",
    "\n",
    "#file informatio]\n",
    "print a.format, a.size, a.mode\n",
    "\n",
    "pix=[]\n",
    "y= a.size[1]/2 # line in the middle of the picture\n",
    "\n",
    "#progress check grey valus should have similar ratio of RGB [Red, Green, Blue, Transparency]\n",
    "#for x in range(1, a.size[0]):\n",
    "#    print x,y, a.getpixel((x,y))\n",
    "\n",
    "pixlist=[]\n",
    "#each pixel is repeted 7 times so let's focus only on subset\n",
    "for x in range(1, a.size[0],7):\n",
    "    pixlist.append(a.getpixel((x,y)))\n",
    "\n",
    "#Change values to letters\n",
    "code=[]\n",
    "for x in pixlist:\n",
    "    # it seems we need only one line\n",
    "    #print chr(x[0]),chr(x[1]), chr(x[2]),chr(x[3]) \n",
    "    code.append(chr(x[0]))\n",
    "\n",
    "#message\n",
    "print ''.join(code)\n",
    "\n",
    "#final message\n",
    "finalMessage=[]\n",
    "\n",
    "for x in re.findall('\\d+', ''.join(code)):\n",
    "    finalMessage.append(chr(int(x)))\n",
    "\n",
    "print 'Final messgae:'+''.join(finalMessage)\n"
   ]
  },
  {
   "cell_type": "code",
   "execution_count": 166,
   "metadata": {
    "collapsed": false
   },
   "outputs": [
    {
     "name": "stdout",
     "output_type": "stream",
     "text": [
      "login: huge\n",
      "password : file\n"
     ]
    }
   ],
   "source": [
    "#Task 8. Integrity.\n",
    "#http://www.pythonchallenge.com/pc/def/integrity.html\n",
    "\n",
    "import urllib2\n",
    "import bz2\n",
    "\n",
    "\n",
    "link='http://www.pythonchallenge.com/pc/def/integrity.html'\n",
    "response = urllib2.urlopen(link)\n",
    "html = response.read()\n",
    "\n",
    "login= re.search(\"un: \\'([^']*)\" , html).group(1)\n",
    "password= re.search(\"pw: \\'([^']*)\" , html).group(1)\n",
    "\n",
    "#decode\n",
    "login = login.decode('string-escape')\n",
    "password=password.decode('string-escape')\n",
    "\n",
    "#decompress\n",
    "login = bz2.decompress(login)\n",
    "password = bz2.decompress(password)\n",
    "\n",
    "#results\n",
    "print 'login:', login\n",
    "print 'password :', password"
   ]
  },
  {
   "cell_type": "code",
   "execution_count": 307,
   "metadata": {
    "collapsed": false
   },
   "outputs": [
    {
     "name": "stdout",
     "output_type": "stream",
     "text": [
      "Ready. Please check file: 2good.jpg\n"
     ]
    }
   ],
   "source": [
    "#Task 9. \n",
    "#http://www.pythonchallenge.com/pc/return/good.html\n",
    "\n",
    "import urllib2, base64, re, Image, ImageDraw, requests\n",
    "\n",
    "link='http://www.pythonchallenge.com/pc/return/good.html'\n",
    "user, password = 'huge', 'file'\n",
    "img = 'http://www.pythonchallenge.com/pc/return/good.jpg'\n",
    "name='good.jpg'\n",
    "\n",
    "#authentication\n",
    "request = urllib2.Request(link)\n",
    "base64string = base64.encodestring('%s:%s' % (user, password)).replace('\\n', '')\n",
    "request.add_header(\"Authorization\", \"Basic %s\" % base64string)   \n",
    "\n",
    "result = urllib2.urlopen(request)\n",
    "html = result.read()\n",
    "\n",
    "htmlT=html.replace('\\n','')\n",
    "\n",
    "#selection of data\n",
    "\n",
    "#first\n",
    "first= re.search('first:(.*)second:', htmlT).group(1)\n",
    "first = map(int, re.findall('(\\d+)', first))\n",
    "\n",
    "#second\n",
    "second = re.search('second:(.*)',htmlT).group(1)\n",
    "second = map(int, re.findall('(\\d+)', second))\n",
    "\n",
    "#download picture\n",
    "f=open(name, 'wb')\n",
    "\n",
    "request = urllib2.Request(img)\n",
    "base64string = base64.encodestring('%s:%s' % (user, password)).replace('\\n', '')\n",
    "request.add_header(\"Authorization\", \"Basic %s\" % base64string)   \n",
    "\n",
    "result = urllib2.urlopen(request)\n",
    "f.write(result.read())\n",
    "f.close()\n",
    "\n",
    "#process picture\n",
    "img=Image.open(name)\n",
    "draw = ImageDraw.Draw(img)\n",
    "\n",
    "#lines a litle bit thicker\n",
    "draw.line(zip(first[0::2], first[1::2]), fill=100)\n",
    "draw.line(zip([x+1 for x in first[0::2]], [x+1 for x in first[1::2]]), fill=100)\n",
    "draw.line(zip([x for x in first[0::2]], [x+1 for x in first[1::2]]), fill=100)\n",
    "draw.line(zip([x+1 for x in first[0::2]], [x for x in first[1::2]]), fill=100)\n",
    "\n",
    "#lines a litle bit thicker\n",
    "draw.line(zip(second[0::2], second[1::2]), fill=100)\n",
    "draw.line(zip([ x+1 for x in second[0::2]], [ x+1 for x in second[1::2]]), fill=100)\n",
    "draw.line(zip([ x for x in second[0::2]], [ x+1 for x in second[1::2]]), fill=100)\n",
    "draw.line(zip([ x+1 for x in second[0::2]], [ x for x in second[1::2]]), fill=100)\n",
    "\n",
    "#save results\n",
    "img.save('2'+name)\n",
    "\n",
    "print 'Ready. Please check file: 2' +name\n"
   ]
  }
 ],
 "metadata": {
  "kernelspec": {
   "display_name": "Python 2",
   "language": "python",
   "name": "python2"
  },
  "language_info": {
   "codemirror_mode": {
    "name": "ipython",
    "version": 2
   },
   "file_extension": ".py",
   "mimetype": "text/x-python",
   "name": "python",
   "nbconvert_exporter": "python",
   "pygments_lexer": "ipython2",
   "version": "2.7.11"
  }
 },
 "nbformat": 4,
 "nbformat_minor": 0
}
