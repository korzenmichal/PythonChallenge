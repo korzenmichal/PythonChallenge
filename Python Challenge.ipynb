{
 "cells": [
  {
   "cell_type": "code",
   "execution_count": 1,
   "metadata": {
    "collapsed": true
   },
   "outputs": [],
   "source": [
    "#http://www.pythonchallenge.com/"
   ]
  },
  {
   "cell_type": "code",
   "execution_count": 2,
   "metadata": {
    "collapsed": false
   },
   "outputs": [
    {
     "name": "stdout",
     "output_type": "stream",
     "text": [
      "http://www.pythonchallenge.com/pc/def/268435456.html\n"
     ]
    }
   ],
   "source": [
    "#Task 1. exponent\n",
    "#http://www.pythonchallenge.com/pc/def/0.html\n",
    "link='http://www.pythonchallenge.com/pc/def/0.html'\n",
    "num= 2**28\n",
    "link=link.replace('0',str(num))\n",
    "print link"
   ]
  },
  {
   "cell_type": "code",
   "execution_count": null,
   "metadata": {
    "collapsed": true
   },
   "outputs": [],
   "source": [
    "#Task 2\n",
    "#http://www.pythonchallenge.com/pc/def/268435456.html"
   ]
  }
 ],
 "metadata": {
  "kernelspec": {
   "display_name": "Python 2",
   "language": "python",
   "name": "python2"
  },
  "language_info": {
   "codemirror_mode": {
    "name": "ipython",
    "version": 2
   },
   "file_extension": ".py",
   "mimetype": "text/x-python",
   "name": "python",
   "nbconvert_exporter": "python",
   "pygments_lexer": "ipython2",
   "version": "2.7.10"
  }
 },
 "nbformat": 4,
 "nbformat_minor": 0
}
