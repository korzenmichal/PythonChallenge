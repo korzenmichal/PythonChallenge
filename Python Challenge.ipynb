{
 "cells": [
  {
   "cell_type": "markdown",
   "metadata": {},
   "source": [
    "# My solution to Python Challange:\n",
    "\n",
    "http://www.pythonchallenge.com/"
   ]
  },
  {
   "cell_type": "code",
   "execution_count": 104,
   "metadata": {
    "collapsed": false
   },
   "outputs": [
    {
     "name": "stdout",
     "output_type": "stream",
     "text": [
      "http://www.pythonchallenge.com/pc/def/268435456.html\n"
     ]
    }
   ],
   "source": [
    "## Task 0. exponent\n",
    "#http://www.pythonchallenge.com/pc/def/0.html\n",
    "\n",
    "link='http://www.pythonchallenge.com/pc/def/0.html'\n",
    "num= 2**28\n",
    "link=link.replace('0',str(num))\n",
    "print link"
   ]
  },
  {
   "cell_type": "code",
   "execution_count": 115,
   "metadata": {
    "collapsed": false
   },
   "outputs": [
    {
     "name": "stdout",
     "output_type": "stream",
     "text": [
      "i hope you didnt translate it by hand. thats what computers are for. doing it in by hand is inefficient and that\"s why this text is so long. using string.maketrans() is recommended. now apply on the url.\n",
      "http://www.pythonchallenge.com/pc/def/ocr.html\n"
     ]
    }
   ],
   "source": [
    "## Task 1. Solution1\n",
    "#http://www.pythonchallenge.com/pc/def/268435456.html\n",
    "\n",
    "import re #regex\n",
    "\n",
    "s='g fmnc wms bgblr rpylqjyrc gr zw fylb. rfyrq ufyr amknsrcpq ypc dmp. bmgle gr gl zw fylb gq glcddgagclr ylb rfyr\"q ufw rfgq rcvr gq qm jmle. sqgle qrpgle.kyicrpylq() gq pcamkkclbcb. lmu ynnjw ml rfc spj.'\n",
    "\n",
    "#function\n",
    "def translate(s):\n",
    "    s2=''\n",
    "    for k in s:\n",
    "        #when not letters keep character\n",
    "        if ord(k) < 97 or ord(k) > 122 :\n",
    "            s2=s2+k\n",
    "        else:\n",
    "            #when alphabet characters\n",
    "            num=ord(k)+2\n",
    "            if num >122: #when z->b,y->a \n",
    "                num=num-123+ord('a')\n",
    "            s2=s2 +chr(num)    \n",
    "    return s2\n",
    "\n",
    "#print result\n",
    "print translate(s)\n",
    "\n",
    "link='http://www.pythonchallenge.com/pc/def/map.html'\n",
    "\n",
    "#split link and replace only html file name\n",
    "begining=re.search('(.*[^/]/)[^/]' , link).group(1)\n",
    "mid= re.search('.*[^/]/([^/].*)(?:\\.)',link).group(1)\n",
    "mid=translate(mid)\n",
    "end=re.search('.*(\\..*)',link).group(1)\n",
    "\n",
    "# print result\n",
    "print begining + mid + end"
   ]
  },
  {
   "cell_type": "code",
   "execution_count": 116,
   "metadata": {
    "collapsed": false
   },
   "outputs": [
    {
     "name": "stdout",
     "output_type": "stream",
     "text": [
      "i hope you didnt translate it by hand. thats what computers are for. doing it in by hand is inefficient and that\"s why this text is so long. using string.maketrans() is recommended. now apply on the url.\n",
      "http://www.pythonchallenge.com/pc/def/ocr.html\n"
     ]
    }
   ],
   "source": [
    "## Task 1. Solution2\n",
    "#http://www.pythonchallenge.com/pc/def/268435456.html\n",
    "\n",
    "import string\n",
    "\n",
    "s='g fmnc wms bgblr rpylqjyrc gr zw fylb. rfyrq ufyr amknsrcpq ypc dmp. bmgle gr gl zw fylb gq glcddgagclr ylb rfyr\"q ufw rfgq rcvr gq qm jmle. sqgle qrpgle.kyicrpylq() gq pcamkkclbcb. lmu ynnjw ml rfc spj.'\n",
    "\n",
    "strin='abcdefghijklmnopqrstuvwxyz'\n",
    "strout='cdefghijklmnopqrstuvwxyzab'\n",
    "\n",
    "codebook=string.maketrans(strin, strout)\n",
    "\n",
    "print s.translate(codebook)\n",
    "\n",
    "link='http://www.pythonchallenge.com/pc/def/map.html'\n",
    "\n",
    "#split link and replace only html file name\n",
    "begining=re.search('(.*[^/]/)[^/]' , link).group(1)\n",
    "mid= re.search('.*[^/]/([^/].*)(?:\\.)',link).group(1)\n",
    "mid=translate(mid)\n",
    "end=re.search('.*(\\..*)',link).group(1)\n",
    "\n",
    "print begining + mid+ end"
   ]
  },
  {
   "cell_type": "code",
   "execution_count": 190,
   "metadata": {
    "collapsed": false,
    "scrolled": false
   },
   "outputs": [
    {
     "name": "stdout",
     "output_type": "stream",
     "text": [
      "Counter({')': 6186, '@': 6157, '(': 6154, ']': 6152, '#': 6115, '_': 6112, '[': 6108, '}': 6105, '%': 6104, '!': 6079, '+': 6066, '$': 6046, '{': 6046, '&': 6043, '*': 6034, '^': 6030, '\\n': 1221, 'a': 1, 'e': 1, 'i': 1, 'l': 1, 'q': 1, 'u': 1, 't': 1, 'y': 1})\n",
      "\n",
      ")@(]#_[}%!+${&*^\n",
      "aeilquty\n"
     ]
    }
   ],
   "source": [
    "##Task 2. OCR\n",
    "#http://www.pythonchallenge.com/pc/def/ocr.html\n",
    "\n",
    "import urllib2\n",
    "import re\n",
    "import collections\n",
    "\n",
    "#download data and select substrig\n",
    "link='http://www.pythonchallenge.com/pc/def/ocr.html'\n",
    "response = urllib2.urlopen(link)\n",
    "html = response.read()\n",
    "\n",
    "charactertable= re.search('.*<!--(.*)-->' , html, re.DOTALL).group(1)\n",
    "\n",
    "#Calculate frequency table\n",
    "FreqTable= collections.Counter(charactertable)\n",
    "print FreqTable\n",
    "print\n",
    "\n",
    "#choose only characters\n",
    "s=''\n",
    "for k in FreqTable.most_common():\n",
    "    s=s+ k[0]\n",
    "print s"
   ]
  },
  {
   "cell_type": "code",
   "execution_count": 218,
   "metadata": {
    "collapsed": false
   },
   "outputs": [
    {
     "name": "stdout",
     "output_type": "stream",
     "text": [
      "linkedlist\n"
     ]
    }
   ],
   "source": [
    "##Task 3. OCR. Solution1\n",
    "#http://www.pythonchallenge.com/pc/def/equality.html\n",
    "\n",
    "import urllib2\n",
    "import re\n",
    "\n",
    "#download data and select substrig\n",
    "link='http://www.pythonchallenge.com/pc/def/equality.html'\n",
    "response = urllib2.urlopen(link)\n",
    "html = response.read()\n",
    "\n",
    "#subset file\n",
    "characterTable= re.search('.*<!--(.*)-->' , html, re.DOTALL).group(1)\n",
    "#remove breaklines\n",
    "characterTable=characterTable.replace('\\n','')\n",
    "lenT=len(characterTable)-1\n",
    "\n",
    "#help function 1\n",
    "#check if lower letter\n",
    "def lcase(s):\n",
    "    if ord(s) >= 97 and ord(s) <= 122:\n",
    "        return True\n",
    "\n",
    "#help function 2\n",
    "#check if surronded by 3 capital letters on each side\n",
    "def surrounded(i):\n",
    "    #bfore and after squence small leter\n",
    "    if i-4>=0:\n",
    "        if not lcase(characterTable[i-4]):\n",
    "            return False\n",
    "    if i+4<=lenT:\n",
    "        if not lcase(characterTable[i+4]):\n",
    "            return False \n",
    "    #Only big letters\n",
    "    for k in (i-3, i-2, i-1, i+1, i+2, i+3):\n",
    "        if lcase(characterTable[k]):\n",
    "            # if at least one small letter - quit\n",
    "            return False\n",
    "        if k==i+3:\n",
    "            # if there were no small letter\n",
    "            return True\n",
    "  pythonchallenge  \n",
    "#loop through string\n",
    "s=''\n",
    "n=[]\n",
    "for i in range(2, len(characterTable)-2):\n",
    "    #find characters with small letters\n",
    "    if lcase(characterTable[i]):\n",
    "        if surrounded(i):\n",
    "            s=s+characterTable[i]\n",
    "            \n",
    "print s"
   ]
  },
  {
   "cell_type": "code",
   "execution_count": 231,
   "metadata": {
    "collapsed": false
   },
   "outputs": [
    {
     "name": "stdout",
     "output_type": "stream",
     "text": [
      "linkedlist\n"
     ]
    }
   ],
   "source": [
    "##Task 3. OCR. Solution2\n",
    "#http://www.pythonchallenge.com/pc/def/equality.html\n",
    "\n",
    "import urllib2\n",
    "import re\n",
    "\n",
    "#download data and select substrig\n",
    "link='http://www.pythonchallenge.com/pc/def/equality.html'\n",
    "response = urllib2.urlopen(link)\n",
    "html = response.read()\n",
    "\n",
    "#subset file\n",
    "characterTable= re.search('.*<!--(.*)-->' , html, re.DOTALL).group(1)\n",
    "#remove breaklines\n",
    "characterTable=characterTable.replace('\\n','')\n",
    "\n",
    "print ''.join(re.findall('^|[^A-Z][A-Z]{3}([a-z])[A-Z]{3}[^A-Z]|$',characterTable))\n"
   ]
  }
 ],
 "metadata": {
  "kernelspec": {
   "display_name": "Python 2",
   "language": "python",
   "name": "python2"
  },
  "language_info": {
   "codemirror_mode": {
    "name": "ipython",
    "version": 2
   },
   "file_extension": ".py",
   "mimetype": "text/x-python",
   "name": "python",
   "nbconvert_exporter": "python",
   "pygments_lexer": "ipython2",
   "version": "2.7.10"
  }
 },
 "nbformat": 4,
 "nbformat_minor": 0
}
